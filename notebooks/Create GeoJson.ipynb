{
 "metadata": {
  "name": ""
 },
 "nbformat": 3,
 "nbformat_minor": 0,
 "worksheets": [
  {
   "cells": [
    {
     "cell_type": "code",
     "collapsed": false,
     "input": [
      "import json\n",
      "\n",
      "import numpy as np\n",
      "import pandas as pd\n",
      "import matplotlib.pyplot as plt\n",
      "\n",
      "from matplotlib import rcParams\n",
      "rcParams['figure.figsize'] = (10, 6)\n",
      "rcParams['figure.dpi'] = 150\n",
      "\n",
      "from collections import OrderedDict"
     ],
     "language": "python",
     "metadata": {},
     "outputs": [],
     "prompt_number": 3
    },
    {
     "cell_type": "code",
     "collapsed": false,
     "input": [
      "!head ../data/simplified_data.csv"
     ],
     "language": "python",
     "metadata": {},
     "outputs": [
      {
       "output_type": "stream",
       "stream": "stdout",
       "text": [
        "TIMELINE DT,VIN,VESSEL NAME,VESSEL SERVICE,VESSEL CLASS,VESSEL TYPE,VESSEL SUBTYPE,FLAG DESC,VESSEL ACTIVITY ROLE DESC,WATERWAY NAME,EVENT TYPE,EVENT CLASS,EVENT SUBCLASS,DAMAGE STATUS,LAT,LON\r\n",
        "12/27/00,9412309,UNITED DYNAMIC,Tank Ship,Tank Ship,Petroleum Oil Tank Ship,Crude Oil Tank Ship,GREECE,Involved in a Marine Investigation (non-casualty),,Vessel Maneuverability,,,Undamaged,39.8488883333,-75.26611\r\n",
        "01/01/65,,CATALA,Passenger (Uninspected),UNSPECIFIED,UNSPECIFIED,UNSPECIFIED,CANADA,Acknowledged Pollution Source,,Grounding,Unmarked Waterway,No Control,Actual Total Loss,46.9833333333,-124.2\r\n",
        "11/09/92,611055,THE DUKE,Towing Vessel,Towing Vessel,General,General,UNITED STATES,Acknowledged Pollution Source,ARKANSAS RIVER,Damage to the Environment,Oil Discharge,Other Oil,Undamaged,34.76805,-92.30055\r\n",
        "06/24/94,622808,MICHAEL D.,Towing Vessel,Towing Vessel,General,General,UNITED STATES,Involved in a Marine Casualty,,Damage to the Environment,Oil Discharge,Other Oil,Undamaged,38.418332,-82.471666\r\n",
        "05/13/96,272036,DALE CATHORALL,Towing Vessel,Towing Vessel,Pushing Ahead (Towboat),General,LIBERIA,Involved in a Marine Casualty,,Allision,,,Damaged,40.876665,-91.031665\r\n",
        "05/13/96,CG029037,CC 8329,Freight Barge,Barge,General,General,UNITED STATES,Involved in a Marine Casualty,,Vessel Maneuverability,Total Loss,,Damaged,40.876665,-91.031665\r\n",
        "05/13/96,CG051091,MTC 271B,Freight Barge,Barge,General,General,UNITED STATES,Involved in a Marine Casualty,,Vessel Maneuverability,Total Loss,,Damaged,40.876665,-91.031665\r\n",
        "05/13/96,627174,SG 404B,Freight Barge,Barge,General,General,UNITED STATES,Involved in a Marine Casualty,,Vessel Maneuverability,Total Loss,,Damaged,40.876665,-91.031665\r\n",
        "05/13/96,612510,CC-7933,Freight Barge,Barge,General,General,UNITED STATES,Involved in a Marine Casualty,,Vessel Maneuverability,Total Loss,,Damaged,40.876665,-91.031665\r\n"
       ]
      }
     ],
     "prompt_number": 4
    },
    {
     "cell_type": "markdown",
     "metadata": {},
     "source": [
      "## Read in data"
     ]
    },
    {
     "cell_type": "code",
     "collapsed": false,
     "input": [
      "df = pd.read_csv('../data/simplified_data.csv', parse_dates=['TIMELINE DT'])\n",
      "df.columns = [s.lower().replace(' ', '_').replace('vessel_', '') for s in df.columns]\n",
      "df = df.drop_duplicates(cols=['lat', 'lon'])"
     ],
     "language": "python",
     "metadata": {},
     "outputs": [],
     "prompt_number": 24
    },
    {
     "cell_type": "markdown",
     "metadata": {},
     "source": [
      "## Filter information down to wanted columns and records"
     ]
    },
    {
     "cell_type": "code",
     "collapsed": false,
     "input": [
      "wanted = [u'timeline_dt', u'name', u'class', u'type', u'flag_desc', u'activity_role_desc', u'event_type', u'event_class',u'lat', u'lon']\n",
      "df = df[wanted]\n",
      "\n",
      "begin_data = datetime.datetime(year=2009, month=1, day=1)\n",
      "end_data = datetime.datetime(year=2013, month=1, day=1)\n",
      "mask = (df.timeline_dt > begin_data) & (df.timeline_dt < end_data) & (df.lat > 0) & (df.lon < -45)\n",
      "df = df[mask]\n",
      "\n",
      "df.timeline_dt = map(str, df.timeline_dt)"
     ],
     "language": "python",
     "metadata": {},
     "outputs": [],
     "prompt_number": 25
    },
    {
     "cell_type": "markdown",
     "metadata": {},
     "source": [
      "## Create `geojson`"
     ]
    },
    {
     "cell_type": "code",
     "collapsed": false,
     "input": [
      "features = []\n",
      "\n",
      "for i in df.index.values:\n",
      "    properties = df.ix[i].to_dict()\n",
      "    lat, lon = properties.pop(\"lat\", None), properties.pop(\"lon\", None)\n",
      "    \n",
      "    if lat and lon:\n",
      "        d = {'type': 'Feature',\n",
      "             'geometry': {\n",
      "                    'type': 'Point',\n",
      "                    'coordinates': [round(lon, 6), round(lat, 6)]\n",
      "                 },\n",
      "             'properties': properties}\n",
      "        features.append(d)\n",
      "    \n",
      "    feature_dict = {'type': 'FeatureCollection',\n",
      "                    'features': features}\n",
      "\n",
      "print 'len', len(features)\n",
      "with open('events.geojson', 'w') as f:\n",
      "    f.write(json.dumps(feature_dict))"
     ],
     "language": "python",
     "metadata": {},
     "outputs": [
      {
       "output_type": "stream",
       "stream": "stdout",
       "text": [
        "len 5731\n"
       ]
      }
     ],
     "prompt_number": 26
    },
    {
     "cell_type": "code",
     "collapsed": false,
     "input": [
      "import requests\n",
      "\n",
      "validate_endpoint = 'http://geojsonlint.com/validate'\n",
      "\n",
      "request = requests.post(validate_endpoint, data=json.dumps(feature_dict))\n",
      "\n",
      "print request.json()"
     ],
     "language": "python",
     "metadata": {},
     "outputs": [
      {
       "output_type": "stream",
       "stream": "stdout",
       "text": [
        "{u'status': u'ok'}\n"
       ]
      }
     ],
     "prompt_number": 15
    },
    {
     "cell_type": "code",
     "collapsed": false,
     "input": [],
     "language": "python",
     "metadata": {},
     "outputs": []
    }
   ],
   "metadata": {}
  }
 ]
}